{
 "cells": [
  {
   "cell_type": "code",
   "execution_count": 1,
   "metadata": {},
   "outputs": [],
   "source": [
    "import logging\n",
    "import pandas as pd\n",
    "import numpy as np\n",
    "from numpy import random\n",
    "import nltk\n",
    "from sklearn.model_selection import train_test_split\n",
    "from sklearn.feature_extraction.text import CountVectorizer, TfidfVectorizer\n",
    "from sklearn.metrics import accuracy_score, confusion_matrix\n",
    "import matplotlib.pyplot as plt\n",
    "from nltk.corpus import stopwords\n",
    "import re\n",
    "import seaborn as sns\n",
    "sns.set()\n",
    "\n",
    "%matplotlib inline"
   ]
  },
  {
   "cell_type": "code",
   "execution_count": 2,
   "metadata": {},
   "outputs": [
    {
     "data": {
      "text/html": [
       "<div>\n",
       "<style scoped>\n",
       "    .dataframe tbody tr th:only-of-type {\n",
       "        vertical-align: middle;\n",
       "    }\n",
       "\n",
       "    .dataframe tbody tr th {\n",
       "        vertical-align: top;\n",
       "    }\n",
       "\n",
       "    .dataframe thead th {\n",
       "        text-align: right;\n",
       "    }\n",
       "</style>\n",
       "<table border=\"1\" class=\"dataframe\">\n",
       "  <thead>\n",
       "    <tr style=\"text-align: right;\">\n",
       "      <th></th>\n",
       "      <th>title</th>\n",
       "      <th>category</th>\n",
       "      <th>description</th>\n",
       "    </tr>\n",
       "  </thead>\n",
       "  <tbody>\n",
       "    <tr>\n",
       "      <td>0</td>\n",
       "      <td>Notebook Acer Aspire 5 A515-52-56A8 Intel Core...</td>\n",
       "      <td>Notebook</td>\n",
       "      <td>Cor Prata (partes A e C). Preto (partes B e D)...</td>\n",
       "    </tr>\n",
       "    <tr>\n",
       "      <td>1</td>\n",
       "      <td>Notebook Acer Aspire 5 A515-52G-522Z Intel Cor...</td>\n",
       "      <td>Notebook</td>\n",
       "      <td>Aspire 5 A515-52G-522Z - Processador Intel® Co...</td>\n",
       "    </tr>\n",
       "    <tr>\n",
       "      <td>2</td>\n",
       "      <td>Tela P/ Notebook Acer Aspire Es1-431-P0v7  14”...</td>\n",
       "      <td>Notebook</td>\n",
       "      <td>Enviamos Sua Tela Para Notebook Acer Aspire E...</td>\n",
       "    </tr>\n",
       "    <tr>\n",
       "      <td>3</td>\n",
       "      <td>Notebook Lenovo B330s-15ikbr Core I5 8250u 8gb...</td>\n",
       "      <td>Notebook</td>\n",
       "      <td>Lenovo B330s acessível e confiável. Acabament...</td>\n",
       "    </tr>\n",
       "    <tr>\n",
       "      <td>4</td>\n",
       "      <td>Notebook Lenovo Ideapad 330 - Tela 15.6'' HD, ...</td>\n",
       "      <td>Notebook</td>\n",
       "      <td>alt='' style='width: 500px; height: 364px;'&gt;</td>\n",
       "    </tr>\n",
       "    <tr>\n",
       "      <td>5</td>\n",
       "      <td>Teclado Notebook Acer Aspire E5-571</td>\n",
       "      <td>Notebook</td>\n",
       "      <td>Imagens meramente ilustrativas</td>\n",
       "    </tr>\n",
       "    <tr>\n",
       "      <td>6</td>\n",
       "      <td>GigabyteAorus 15</td>\n",
       "      <td>Notebook</td>\n",
       "      <td>» Valores deste anúncio exclusivamente para ...</td>\n",
       "    </tr>\n",
       "    <tr>\n",
       "      <td>7</td>\n",
       "      <td>Notebook Acer Aspire A515-51-C2TQ - Tela 15.6'...</td>\n",
       "      <td>Notebook</td>\n",
       "      <td>Dimensões do produto: 381.8 x 263 x 21.6 mm</td>\n",
       "    </tr>\n",
       "    <tr>\n",
       "      <td>8</td>\n",
       "      <td>GigabyteAorus 15</td>\n",
       "      <td>Notebook</td>\n",
       "      <td>» Valores deste anúncio exclusivamente para ...</td>\n",
       "    </tr>\n",
       "    <tr>\n",
       "      <td>9</td>\n",
       "      <td>Msigs65</td>\n",
       "      <td>Notebook</td>\n",
       "      <td>» Valores deste anúncio exclusivamente para ...</td>\n",
       "    </tr>\n",
       "  </tbody>\n",
       "</table>\n",
       "</div>"
      ],
      "text/plain": [
       "                                               title  category  \\\n",
       "0  Notebook Acer Aspire 5 A515-52-56A8 Intel Core...  Notebook   \n",
       "1  Notebook Acer Aspire 5 A515-52G-522Z Intel Cor...  Notebook   \n",
       "2  Tela P/ Notebook Acer Aspire Es1-431-P0v7  14”...  Notebook   \n",
       "3  Notebook Lenovo B330s-15ikbr Core I5 8250u 8gb...  Notebook   \n",
       "4  Notebook Lenovo Ideapad 330 - Tela 15.6'' HD, ...  Notebook   \n",
       "5                Teclado Notebook Acer Aspire E5-571  Notebook   \n",
       "6                                   GigabyteAorus 15  Notebook   \n",
       "7  Notebook Acer Aspire A515-51-C2TQ - Tela 15.6'...  Notebook   \n",
       "8                                   GigabyteAorus 15  Notebook   \n",
       "9                                            Msigs65  Notebook   \n",
       "\n",
       "                                         description  \n",
       "0  Cor Prata (partes A e C). Preto (partes B e D)...  \n",
       "1  Aspire 5 A515-52G-522Z - Processador Intel® Co...  \n",
       "2   Enviamos Sua Tela Para Notebook Acer Aspire E...  \n",
       "3   Lenovo B330s acessível e confiável. Acabament...  \n",
       "4       alt='' style='width: 500px; height: 364px;'>  \n",
       "5                 Imagens meramente ilustrativas      \n",
       "6    » Valores deste anúncio exclusivamente para ...  \n",
       "7        Dimensões do produto: 381.8 x 263 x 21.6 mm  \n",
       "8    » Valores deste anúncio exclusivamente para ...  \n",
       "9    » Valores deste anúncio exclusivamente para ...  "
      ]
     },
     "execution_count": 2,
     "metadata": {},
     "output_type": "execute_result"
    }
   ],
   "source": [
    "df = pd.read_csv('../crawler/dataset.csv')\n",
    "df.head(10)"
   ]
  },
  {
   "cell_type": "markdown",
   "metadata": {},
   "source": [
    "Each row of the dataset contains the **title, category and description**."
   ]
  },
  {
   "cell_type": "code",
   "execution_count": 3,
   "metadata": {},
   "outputs": [
    {
     "name": "stdout",
     "output_type": "stream",
     "text": [
      "Approximate number of words in the dataset(non-unique): [1975812]\n"
     ]
    }
   ],
   "source": [
    "print('Approximate number of words in the dataset(non-unique): [%d]' %\n",
    "      df['description'].apply(lambda x: len(x.split(' '))).sum())"
   ]
  },
  {
   "cell_type": "markdown",
   "metadata": {},
   "source": [
    "Let's check the distribution of the classes."
   ]
  },
  {
   "cell_type": "code",
   "execution_count": 4,
   "metadata": {},
   "outputs": [
    {
     "data": {
      "image/png": "[encoded data removed]",
      "text/plain": [
       "<Figure size 720x432 with 1 Axes>"
      ]
     },
     "metadata": {
      "needs_background": "light"
     },
     "output_type": "display_data"
    }
   ],
   "source": [
    "plt.figure(figsize=(10,6))\n",
    "df.category.value_counts().plot(kind='bar', label='category', stacked=True, color=['r', 'g', 'b', 'y']);"
   ]
  },
  {
   "cell_type": "markdown",
   "metadata": {},
   "source": [
    "As we can see the data is very unbalanced, so we are going to balance it using the class with minimum number of samples."
   ]
  },
  {
   "cell_type": "markdown",
   "metadata": {},
   "source": [
    "## Random under sampling approach"
   ]
  },
  {
   "cell_type": "code",
   "execution_count": 5,
   "metadata": {},
   "outputs": [
    {
     "name": "stdout",
     "output_type": "stream",
     "text": [
      "Minimum number of samples: [215]\n"
     ]
    }
   ],
   "source": [
    "# Finding the minimum number of samples in the dataset\n",
    "min_sample = min(df.category.value_counts())\n",
    "print('Minimum number of samples: [%d]' % min_sample)"
   ]
  },
  {
   "cell_type": "code",
   "execution_count": 6,
   "metadata": {},
   "outputs": [
    {
     "name": "stdout",
     "output_type": "stream",
     "text": [
      "215 Ar-Condicionado\n",
      "215 Celular e Smartphone\n",
      "215 Fogão\n",
      "215 Geladeira / Refrigerador\n",
      "215 Guarda-Roupa / Roupeiro\n",
      "215 Lava e Seca\n",
      "215 Monitores\n",
      "215 Máquina de Lavar\n",
      "215 Notebook\n",
      "215 Smart TV\n"
     ]
    }
   ],
   "source": [
    "balanced_under_df = pd.DataFrame()\n",
    "\n",
    "categories = np.unique(df.category.values)\n",
    "\n",
    "for category in categories:\n",
    "    category_under = df[df['category'] == category].sample(min_sample, replace=True)\n",
    "    print(len(category_under.values), category)\n",
    "    balanced_under_df = pd.concat([balanced_under_df, category_under], axis=0)"
   ]
  },
  {
   "cell_type": "markdown",
   "metadata": {},
   "source": [
    "Now we have a balanced dataset over the categories collected."
   ]
  },
  {
   "cell_type": "code",
   "execution_count": 7,
   "metadata": {},
   "outputs": [
    {
     "data": {
      "image/png": "[encoded data removed]",
      "text/plain": [
       "<Figure size 720x432 with 1 Axes>"
      ]
     },
     "metadata": {
      "needs_background": "light"
     },
     "output_type": "display_data"
    }
   ],
   "source": [
    "plt.figure(figsize=(10,6))\n",
    "balanced_under_df.category.value_counts().plot(kind='bar', label='category', stacked=True, color=['r', 'g', 'b', 'y']);"
   ]
  },
  {
   "cell_type": "markdown",
   "metadata": {},
   "source": [
    "## 2. Cleaning the data"
   ]
  },
  {
   "cell_type": "code",
   "execution_count": 8,
   "metadata": {},
   "outputs": [],
   "source": [
    "from nltk.stem.rslp import RSLPStemmer\n",
    "from nltk.tokenize import word_tokenize\n",
    "\n",
    "stop_words = set(stopwords.words('portuguese'))\n",
    "# stemmer for portugues language\n",
    "stemmer = RSLPStemmer()\n",
    "\n",
    "punctuation = \"\"\"\\!\\\"\\#\\$\\%\\&\\'\\(\\)\\*\\+\\,\\-\\.\\/\\:\\;\\<\\=\\>\\?[\\]\\^\\_\\`\\{\\|\\}~\"\"\"\n",
    "\n",
    "# Defining cleaning regexes\n",
    "number_re = re.compile(r'(\\d+)', re.I | re.M | re.U)\n",
    "punkt_re = re.compile(r'([%s])' % punctuation, re.I | re.M | re.U)\n",
    "whitespaces_re = re.compile(r'(\\s)', re.I | re.M | re.U)\n",
    "terms_re = re.compile(r'(garantia|fornecedor|frete|meses|desconto)', re.I | re.M | re.U)\n",
    "\n",
    "\n",
    "def clean_data(text, stem=False):\n",
    "    \"\"\"\n",
    "        text: a string\n",
    "\n",
    "        return: modified initial string\n",
    "    \"\"\"\n",
    "    if type(text) != str:\n",
    "        raise Exception('Doc is not text data')\n",
    "\n",
    "    # Making a copy of the original textument\n",
    "    _text = text\n",
    "\n",
    "    # Stripping\n",
    "    _text = _text.strip()\n",
    "\n",
    "    # lower case\n",
    "    _text = _text.lower()\n",
    "\n",
    "    # removing numbers\n",
    "    _text = number_re.sub('', _text)\n",
    "    \n",
    "    # removing context terms\n",
    "    _text = terms_re.sub('', _text)\n",
    "\n",
    "    # removing long white spaces to single space\n",
    "    _text = whitespaces_re.sub(' ', _text)\n",
    "\n",
    "    # Removing stopwords and words that aren't four units long\n",
    "    tokens = [\n",
    "        token for token in word_tokenize(_text)\n",
    "        if (token not in stop_words and len(token) > 4 and '\\\\' not in token)\n",
    "    ]\n",
    "    if stem:\n",
    "        _text = ' '.join([stemmer.stem(word) for word in tokens])\n",
    "    else:\n",
    "        _text = ' '.join([word for word in tokens])\n",
    "\n",
    "    return _text"
   ]
  },
  {
   "cell_type": "code",
   "execution_count": 9,
   "metadata": {},
   "outputs": [],
   "source": [
    "# Merging the two text data into one so we have all the descriptive text that defines a category\n",
    "balanced_under_df['text'] = balanced_under_df['title'] + ' ' + balanced_under_df['description']\n",
    "# cleaning the new text data\n",
    "balanced_under_df.text = balanced_under_df.text.apply(clean_data, stem=False)\n"
   ]
  },
  {
   "cell_type": "markdown",
   "metadata": {},
   "source": [
    "Data example below"
   ]
  },
  {
   "cell_type": "code",
   "execution_count": 10,
   "metadata": {},
   "outputs": [
    {
     "data": {
      "text/plain": [
       "21004    ar-condicionado split inverter ar-condicionado...\n",
       "16391    condicionado split komeco condicionado split k...\n",
       "21959    condicionado split inverter garden quente/frio...\n",
       "16321    condicionado janela springer midea mecânico mc...\n",
       "20805    condicionado split digital quente samsung cond...\n",
       "                               ...                        \n",
       "19637      televisor smart smart preços super competitivos\n",
       "19679    smart samsung series descrição desfrute nível ...\n",
       "27485    philco android curve phadsgwa philco android c...\n",
       "20329    smart wi-fi momentos frente mesmos smart s/g.e...\n",
       "20315    smart samsung qnqragxzd pontos quânticos ambie...\n",
       "Name: text, Length: 2150, dtype: object"
      ]
     },
     "execution_count": 10,
     "metadata": {},
     "output_type": "execute_result"
    }
   ],
   "source": [
    "balanced_under_df.text"
   ]
  },
  {
   "cell_type": "code",
   "execution_count": 11,
   "metadata": {},
   "outputs": [
    {
     "name": "stdout",
     "output_type": "stream",
     "text": [
      "Number of words after pre-processing: [78527]\n"
     ]
    }
   ],
   "source": [
    "print('Number of words after pre-processing: [%d]' %\n",
    "      balanced_under_df['text'].apply(lambda x: len(x.split(' '))).sum())"
   ]
  },
  {
   "cell_type": "markdown",
   "metadata": {},
   "source": [
    "# Classification Models\n",
    "\n",
    "## Multinomial Naive Bayes\n",
    "\n",
    "### The Algorithm\n",
    "The algorithm it is very statistical based using prior and posterior probabilities of the classes in the dataset.\n",
    "\n",
    "Using the Bayes' Theorem below as the main idea:\n",
    "\n",
    "$$P(A | B)P(B) = P(A \\cap B) = P(B \\cap A) = P(B | A)P(A)$$\n",
    "\n",
    "$$P(A | B) = \\frac{P(B | A)P(A)}{P(B)}$$\n",
    "\n",
    "\n",
    "Now using the theorem we can ask what is the probability of a given class given that a specific document happened.\n",
    "\n",
    "$$p(\\text{class} \\mid \\mathbf {\\text{data}} )={\\frac {p(\\mathbf {\\text{data}} \\mid \\text{class}) * p(\\text{class})}{p(\\mathbf {\\text{data}} )}}$$\n",
    "\n",
    "where:\n",
    "\n",
    "\n",
    "* $p(class | data)$ is called the posterior.\n",
    "* $p(data | class)$ is called the likelihood.\n",
    "* $p(class)$ is called the prior.\n",
    "* $p(data)$ is called the marginal probability.\n",
    "\n",
    "\n",
    "The equation above describes the full Bayes algorithm but some probabilites are very non pratical to calculate an example of this is the $P(data)$ because if we have a never seen document in the dataset this $P(data)$ is going to be $0$, so usually we don't calculate the marginal probabilities in real word cases.\n",
    "\n",
    "\n",
    "\n",
    "\n",
    "\n",
    "\n",
    "**The term Naive comes from assuming that the variables are independent of each other when they may not be**\n",
    "\n",
    "**The Multinomial is because we are not using the standard gaussian distribution but the multinomial distribution to calculate the likelihood probabilities**\n",
    "\n",
    "This classifier is good for cases where the data are typically represented as word vector counts, although tf-idf vectors are also known to work well in practice."
   ]
  },
  {
   "cell_type": "markdown",
   "metadata": {},
   "source": [
    "Under sampling results"
   ]
  },
  {
   "cell_type": "code",
   "execution_count": 12,
   "metadata": {},
   "outputs": [],
   "source": [
    "X = balanced_under_df.text\n",
    "y = balanced_under_df.category\n",
    "\n",
    "X_train, X_test, y_train, y_test = train_test_split(\n",
    "    X, y, test_size=0.3, random_state=97)"
   ]
  },
  {
   "cell_type": "markdown",
   "metadata": {},
   "source": [
    "The next steps includes feature engineering. We will convert our text documents to a matrix of token counts (CountVectorizer), then transform a count matrix to a normalized tf-idf representation (tf-idf transformer). After that, we train several classifiers."
   ]
  },
  {
   "cell_type": "code",
   "execution_count": 13,
   "metadata": {},
   "outputs": [
    {
     "data": {
      "text/plain": [
       "Pipeline(memory=None,\n",
       "         steps=[('vect',\n",
       "                 CountVectorizer(analyzer='word', binary=False,\n",
       "                                 decode_error='strict',\n",
       "                                 dtype=<class 'numpy.int64'>, encoding='utf-8',\n",
       "                                 input='content', lowercase=True, max_df=1.0,\n",
       "                                 max_features=None, min_df=1,\n",
       "                                 ngram_range=(1, 1), preprocessor=None,\n",
       "                                 stop_words=None, strip_accents=None,\n",
       "                                 token_pattern='(?u)\\\\b\\\\w\\\\w+\\\\b',\n",
       "                                 tokenizer=None, vocabulary=None)),\n",
       "                ('tfidf',\n",
       "                 TfidfTransformer(norm='l2', smooth_idf=True,\n",
       "                                  sublinear_tf=False, use_idf=True)),\n",
       "                ('clf',\n",
       "                 MultinomialNB(alpha=1.0, class_prior=None, fit_prior=True))],\n",
       "         verbose=False)"
      ]
     },
     "execution_count": 13,
     "metadata": {},
     "output_type": "execute_result"
    }
   ],
   "source": [
    "from sklearn.naive_bayes import MultinomialNB\n",
    "from sklearn.pipeline import Pipeline\n",
    "from sklearn.feature_extraction.text import TfidfTransformer\n",
    "\n",
    "nb = Pipeline([('vect', CountVectorizer()),\n",
    "               ('tfidf', TfidfTransformer()),\n",
    "               ('clf', MultinomialNB()),\n",
    "              ])\n",
    "nb.fit(X_train, y_train)"
   ]
  },
  {
   "cell_type": "code",
   "execution_count": 14,
   "metadata": {},
   "outputs": [
    {
     "name": "stdout",
     "output_type": "stream",
     "text": [
      "accuracy 0.9426356589147287\n",
      "                          precision    recall  f1-score   support\n",
      "\n",
      "         Ar-Condicionado       0.95      0.98      0.97        58\n",
      "    Celular e Smartphone       0.95      0.95      0.95        63\n",
      "                   Fogão       0.99      0.99      0.99        68\n",
      "Geladeira / Refrigerador       1.00      0.95      0.97        74\n",
      " Guarda-Roupa / Roupeiro       0.97      1.00      0.98        58\n",
      "             Lava e Seca       0.86      0.76      0.81        55\n",
      "               Monitores       0.95      0.97      0.96        71\n",
      "        Máquina de Lavar       0.79      0.91      0.85        55\n",
      "                Notebook       0.98      0.94      0.96        68\n",
      "                Smart TV       0.96      0.95      0.95        75\n",
      "\n",
      "                accuracy                           0.94       645\n",
      "               macro avg       0.94      0.94      0.94       645\n",
      "            weighted avg       0.94      0.94      0.94       645\n",
      "\n",
      "CPU times: user 24.5 ms, sys: 2.52 ms, total: 27 ms\n",
      "Wall time: 25.8 ms\n"
     ]
    }
   ],
   "source": [
    "%%time\n",
    "from sklearn.metrics import classification_report\n",
    "y_pred = nb.predict(X_test)\n",
    "\n",
    "print('accuracy %s' % accuracy_score(y_pred, y_test))\n",
    "print(classification_report(y_test, y_pred,target_names=categories))"
   ]
  }
 ],
 "metadata": {
  "kernelspec": {
   "display_name": "Python 3",
   "language": "python",
   "name": "python3"
  },
  "language_info": {
   "codemirror_mode": {
    "name": "ipython",
    "version": 3
   },
   "file_extension": ".py",
   "mimetype": "text/x-python",
   "name": "python",
   "nbconvert_exporter": "python",
   "pygments_lexer": "ipython3",
   "version": "3.6.8"
  }
 },
 "nbformat": 4,
 "nbformat_minor": 2
}
