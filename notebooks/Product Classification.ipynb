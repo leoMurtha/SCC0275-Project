{
 "cells": [
  {
   "cell_type": "code",
   "execution_count": 11,
   "metadata": {},
   "outputs": [],
   "source": [
    "import logging\n",
    "import pandas as pd\n",
    "import numpy as np\n",
    "from numpy import random\n",
    "import nltk\n",
    "from sklearn.model_selection import train_test_split\n",
    "from sklearn.feature_extraction.text import CountVectorizer, TfidfVectorizer\n",
    "from sklearn.metrics import accuracy_score, confusion_matrix\n",
    "import matplotlib.pyplot as plt\n",
    "from nltk.corpus import stopwords\n",
    "import re\n",
    "import warnings\n",
    "warnings.filterwarnings('ignore')\n",
    "#import seaborn as sns\n",
    "#sns.set()\n",
    "\n",
    "%matplotlib inline"
   ]
  },
  {
   "cell_type": "code",
   "execution_count": 12,
   "metadata": {},
   "outputs": [
    {
     "data": {
      "text/html": [
       "<div>\n",
       "<style scoped>\n",
       "    .dataframe tbody tr th:only-of-type {\n",
       "        vertical-align: middle;\n",
       "    }\n",
       "\n",
       "    .dataframe tbody tr th {\n",
       "        vertical-align: top;\n",
       "    }\n",
       "\n",
       "    .dataframe thead th {\n",
       "        text-align: right;\n",
       "    }\n",
       "</style>\n",
       "<table border=\"1\" class=\"dataframe\">\n",
       "  <thead>\n",
       "    <tr style=\"text-align: right;\">\n",
       "      <th></th>\n",
       "      <th>title</th>\n",
       "      <th>category</th>\n",
       "      <th>description</th>\n",
       "    </tr>\n",
       "  </thead>\n",
       "  <tbody>\n",
       "    <tr>\n",
       "      <th>0</th>\n",
       "      <td>Notebook Acer Aspire 5 A515-52-56A8 Intel Core...</td>\n",
       "      <td>Notebook</td>\n",
       "      <td>Cor Prata (partes A e C). Preto (partes B e D)...</td>\n",
       "    </tr>\n",
       "    <tr>\n",
       "      <th>1</th>\n",
       "      <td>Notebook Acer Aspire 5 A515-52G-522Z Intel Cor...</td>\n",
       "      <td>Notebook</td>\n",
       "      <td>Aspire 5 A515-52G-522Z - Processador Intel® Co...</td>\n",
       "    </tr>\n",
       "    <tr>\n",
       "      <th>2</th>\n",
       "      <td>Tela P/ Notebook Acer Aspire Es1-431-P0v7  14”...</td>\n",
       "      <td>Notebook</td>\n",
       "      <td>Enviamos Sua Tela Para Notebook Acer Aspire E...</td>\n",
       "    </tr>\n",
       "    <tr>\n",
       "      <th>3</th>\n",
       "      <td>Notebook Lenovo B330s-15ikbr Core I5 8250u 8gb...</td>\n",
       "      <td>Notebook</td>\n",
       "      <td>Lenovo B330s acessível e confiável. Acabament...</td>\n",
       "    </tr>\n",
       "    <tr>\n",
       "      <th>4</th>\n",
       "      <td>Notebook Lenovo Ideapad 330 - Tela 15.6'' HD, ...</td>\n",
       "      <td>Notebook</td>\n",
       "      <td>alt='' style='width: 500px; height: 364px;'&gt;</td>\n",
       "    </tr>\n",
       "    <tr>\n",
       "      <th>5</th>\n",
       "      <td>Teclado Notebook Acer Aspire E5-571</td>\n",
       "      <td>Notebook</td>\n",
       "      <td>Imagens meramente ilustrativas</td>\n",
       "    </tr>\n",
       "    <tr>\n",
       "      <th>6</th>\n",
       "      <td>GigabyteAorus 15</td>\n",
       "      <td>Notebook</td>\n",
       "      <td>» Valores deste anúncio exclusivamente para ...</td>\n",
       "    </tr>\n",
       "    <tr>\n",
       "      <th>7</th>\n",
       "      <td>Notebook Acer Aspire A515-51-C2TQ - Tela 15.6'...</td>\n",
       "      <td>Notebook</td>\n",
       "      <td>Dimensões do produto: 381.8 x 263 x 21.6 mm</td>\n",
       "    </tr>\n",
       "    <tr>\n",
       "      <th>8</th>\n",
       "      <td>GigabyteAorus 15</td>\n",
       "      <td>Notebook</td>\n",
       "      <td>» Valores deste anúncio exclusivamente para ...</td>\n",
       "    </tr>\n",
       "    <tr>\n",
       "      <th>9</th>\n",
       "      <td>Msigs65</td>\n",
       "      <td>Notebook</td>\n",
       "      <td>» Valores deste anúncio exclusivamente para ...</td>\n",
       "    </tr>\n",
       "  </tbody>\n",
       "</table>\n",
       "</div>"
      ],
      "text/plain": [
       "                                               title  category  \\\n",
       "0  Notebook Acer Aspire 5 A515-52-56A8 Intel Core...  Notebook   \n",
       "1  Notebook Acer Aspire 5 A515-52G-522Z Intel Cor...  Notebook   \n",
       "2  Tela P/ Notebook Acer Aspire Es1-431-P0v7  14”...  Notebook   \n",
       "3  Notebook Lenovo B330s-15ikbr Core I5 8250u 8gb...  Notebook   \n",
       "4  Notebook Lenovo Ideapad 330 - Tela 15.6'' HD, ...  Notebook   \n",
       "5                Teclado Notebook Acer Aspire E5-571  Notebook   \n",
       "6                                   GigabyteAorus 15  Notebook   \n",
       "7  Notebook Acer Aspire A515-51-C2TQ - Tela 15.6'...  Notebook   \n",
       "8                                   GigabyteAorus 15  Notebook   \n",
       "9                                            Msigs65  Notebook   \n",
       "\n",
       "                                         description  \n",
       "0  Cor Prata (partes A e C). Preto (partes B e D)...  \n",
       "1  Aspire 5 A515-52G-522Z - Processador Intel® Co...  \n",
       "2   Enviamos Sua Tela Para Notebook Acer Aspire E...  \n",
       "3   Lenovo B330s acessível e confiável. Acabament...  \n",
       "4       alt='' style='width: 500px; height: 364px;'>  \n",
       "5                 Imagens meramente ilustrativas      \n",
       "6    » Valores deste anúncio exclusivamente para ...  \n",
       "7        Dimensões do produto: 381.8 x 263 x 21.6 mm  \n",
       "8    » Valores deste anúncio exclusivamente para ...  \n",
       "9    » Valores deste anúncio exclusivamente para ...  "
      ]
     },
     "execution_count": 12,
     "metadata": {},
     "output_type": "execute_result"
    }
   ],
   "source": [
    "df = pd.read_csv('../crawler/dataset.csv')\n",
    "df.head(10)"
   ]
  },
  {
   "cell_type": "markdown",
   "metadata": {},
   "source": [
    "Each row of the dataset contains the **title, category and description**."
   ]
  },
  {
   "cell_type": "code",
   "execution_count": 13,
   "metadata": {},
   "outputs": [
    {
     "name": "stdout",
     "output_type": "stream",
     "text": [
      "Approximate number of words in the dataset(non-unique): [1975812]\n"
     ]
    }
   ],
   "source": [
    "print('Approximate number of words in the dataset(non-unique): [%d]' %\n",
    "      df['description'].apply(lambda x: len(x.split(' '))).sum())"
   ]
  },
  {
   "cell_type": "markdown",
   "metadata": {},
   "source": [
    "Let's check the distribution of the classes."
   ]
  },
  {
   "cell_type": "code",
   "execution_count": 14,
   "metadata": {},
   "outputs": [
    {
     "data": {
      "image/png": "[encoded data removed]",
      "text/plain": [
       "<matplotlib.figure.Figure at 0x7fbd24c1d828>"
      ]
     },
     "metadata": {
      "needs_background": "light"
     },
     "output_type": "display_data"
    }
   ],
   "source": [
    "plt.figure(figsize=(10,6))\n",
    "df.category.value_counts().plot(kind='bar', label='category', stacked=True, color=['r', 'g', 'b', 'y']);"
   ]
  },
  {
   "cell_type": "markdown",
   "metadata": {},
   "source": [
    "As we can see the data is very unbalanced, so we are going to balance it using the class with minimum number of samples."
   ]
  },
  {
   "cell_type": "markdown",
   "metadata": {},
   "source": [
    "## 2. Cleaning the data"
   ]
  },
  {
   "cell_type": "code",
   "execution_count": 15,
   "metadata": {},
   "outputs": [],
   "source": [
    "from nltk.stem.rslp import RSLPStemmer\n",
    "from nltk.tokenize import word_tokenize\n",
    "\n",
    "stop_words = set(stopwords.words('portuguese'))\n",
    "# stemmer for portugues language\n",
    "stemmer = RSLPStemmer()\n",
    "\n",
    "punctuation = \"\"\"\\!\\\"\\#\\$\\%\\&\\'\\(\\)\\*\\+\\,\\-\\.\\/\\:\\;\\<\\=\\>\\?[\\]\\^\\_\\`\\{\\|\\}~\"\"\"\n",
    "\n",
    "# Defining cleaning regexes\n",
    "number_re = re.compile(r'(\\d+)', re.I | re.M | re.U)\n",
    "punkt_re = re.compile(r'([%s])' % punctuation, re.I | re.M | re.U)\n",
    "whitespaces_re = re.compile(r'(\\s)', re.I | re.M | re.U)\n",
    "terms_re = re.compile(r'(garantia|fornecedor|frete|meses|desconto)', re.I | re.M | re.U)\n",
    "\n",
    "\n",
    "def clean_data(text, stem=False):\n",
    "    \"\"\"\n",
    "        text: a string\n",
    "\n",
    "        return: modified initial string\n",
    "    \"\"\"\n",
    "    if type(text) != str:\n",
    "        raise Exception('Doc is not text data')\n",
    "\n",
    "    # Making a copy of the original textument\n",
    "    _text = text\n",
    "\n",
    "    # Stripping\n",
    "    _text = _text.strip()\n",
    "\n",
    "    # lower case\n",
    "    _text = _text.lower()\n",
    "\n",
    "    # removing numbers\n",
    "    _text = number_re.sub('', _text)\n",
    "    \n",
    "    # removing context terms\n",
    "    _text = terms_re.sub('', _text)\n",
    "\n",
    "    # removing long white spaces to single space\n",
    "    _text = whitespaces_re.sub(' ', _text)\n",
    "\n",
    "    # Removing stopwords and words that aren't four units long\n",
    "    tokens = [\n",
    "        token for token in word_tokenize(_text)\n",
    "        if (token not in stop_words and len(token) > 4 and '\\\\' not in token)\n",
    "    ]\n",
    "    if stem:\n",
    "        _text = ' '.join([stemmer.stem(word) for word in tokens])\n",
    "    else:\n",
    "        _text = ' '.join([word for word in tokens])\n",
    "\n",
    "    return _text"
   ]
  },
  {
   "cell_type": "code",
   "execution_count": 16,
   "metadata": {},
   "outputs": [],
   "source": [
    "# Merging the two text data into one so we have all the descriptive text that defines a category\n",
    "df['text'] = df['title'] + ' ' + df['description']\n",
    "# cleaning the new text data\n",
    "df.text = df.text.apply(clean_data, stem=False)\n",
    "df.category = df.category.apply(lambda category: category.strip())"
   ]
  },
  {
   "cell_type": "markdown",
   "metadata": {},
   "source": [
    "Data example below"
   ]
  },
  {
   "cell_type": "code",
   "execution_count": 17,
   "metadata": {},
   "outputs": [
    {
     "data": {
      "text/plain": [
       "0        notebook aspire intel ªgeração memória windows...\n",
       "1        notebook aspire a-g-z intel geração geforce as...\n",
       "2        notebook aspire neide notebook enviamos notebo...\n",
       "3        notebook lenovo bs-ikbr radeon windows preto l...\n",
       "4        notebook lenovo ideapad intel intel graphics s...\n",
       "5        teclado notebook aspire imagens meramente ilus...\n",
       "6        gigabyteaorus valores deste anúncio exclusivam...\n",
       "7          notebook aspire intel windows dimensões produto\n",
       "8        gigabyteaorus valores deste anúncio exclusivam...\n",
       "9        msigs valores deste anúncio exclusivamente pes...\n",
       "10       notebook lg-philips philips original notebook ...\n",
       "11       notebook gamer intel nvidia atualize conceitos...\n",
       "12                   notebook aspire ryzen radeon limitada\n",
       "13       msigs valores deste anúncio exclusivamente pes...\n",
       "14       gigabyteaorus valores deste anúncio exclusivam...\n",
       "15       teclado notebook pavilion dv-ber bestbattery c...\n",
       "16       notebook mobile workstation prevailpro quadro ...\n",
       "17       notebook compaq presario intel windows linha p...\n",
       "18       notebook intel linux endless mochila notebook ...\n",
       "19       notebook inspiron intelcore teclado retroilumi...\n",
       "20                                          notebook intel\n",
       "21       notebook travelmate bestbattery preocupamos be...\n",
       "22       notebook intel celeron polegadas windows claro...\n",
       "23                   notebook lenovo ideapad windows feqbr\n",
       "24       teclado notebook aspire imagens meramente ilus...\n",
       "25       notebook positivo intel características marca ...\n",
       "26       gigabyteaorus valores deste anúncio exclusivam...\n",
       "27       bateria notebook aspire bestbattery garante ma...\n",
       "28       notebook a-g-bh .ghz/ bateria removível li-ion...\n",
       "29       guarda roupa casal espelhado portas correr gav...\n",
       "                               ...                        \n",
       "28300    smartphone motorola android octa-core qualcomm...\n",
       "28301    capinha shock iphone estrela quarkcase *imagem...\n",
       "28302    galaxy quero material plástico premium materia...\n",
       "28303    película vidro dupla samsung galaxy gorila shi...\n",
       "28304    fonte micro carregador mania veicular sobre de...\n",
       "28305    capinha shock delic quarkcase *imagem merament...\n",
       "28306    capinha shock samsung galaxy skull quarkcase *...\n",
       "28307    galaxy sport quero material plástico premium m...\n",
       "28308    capinha shock princesa quarkcase *imagem meram...\n",
       "28309    pulseira milanese apple watch -anúncio referen...\n",
       "28310    galaxy quero material plástico premium materia...\n",
       "28311    película transparente cobre samsung encapar su...\n",
       "28312    galaxy prova waterproof anti-choque samsung ve...\n",
       "28313    capinha shock motorola borboleta quarkcase *im...\n",
       "28314    impermeável samsung hmaston capinha celular bá...\n",
       "28315    película flexível samsung galaxy prime grand p...\n",
       "28316    carteira cover zenfone maston carteira cover z...\n",
       "28317    carregador portátil pineng compatível motorola...\n",
       "28318    smartphone zenfone qualcomm snapdragon câmera ...\n",
       "28319    smartphone huawei câmera wi-fi contra defeitos...\n",
       "28320    smartphone samsung galaxy selfie permite trans...\n",
       "28321    capinha magnética iphone magnetica iphone vidr...\n",
       "28322    carregador tomada rápido compacto lelong carre...\n",
       "28323    capinha shock primavera quarkcase *imagem mera...\n",
       "28324    película zenfone vidro temperado hmaston tecno...\n",
       "28325    capinha shock samsung galaxy geométrico quarkc...\n",
       "28326    cb-bl especificações faster charging carrega r...\n",
       "28327    película vidro iphone iphone cases todos diret...\n",
       "28328    película premium silicone/gel transparente sam...\n",
       "28329    carregador portátil power multilaser carregado...\n",
       "Name: text, Length: 28330, dtype: object"
      ]
     },
     "execution_count": 17,
     "metadata": {},
     "output_type": "execute_result"
    }
   ],
   "source": [
    "df.text"
   ]
  },
  {
   "cell_type": "code",
   "execution_count": 18,
   "metadata": {},
   "outputs": [
    {
     "name": "stdout",
     "output_type": "stream",
     "text": [
      "Number of words after pre-processing: [980312]\n"
     ]
    }
   ],
   "source": [
    "print('Number of words after pre-processing: [%d]' %\n",
    "      df['text'].apply(lambda x: len(x.split(' '))).sum())"
   ]
  },
  {
   "cell_type": "markdown",
   "metadata": {},
   "source": [
    "# Classification Models\n",
    "\n",
    "## Multinomial Naive Bayes\n",
    "\n",
    "### The Algorithm\n",
    "The algorithm it is very statistical based using prior and posterior probabilities of the classes in the dataset.\n",
    "\n",
    "Using the Bayes' Theorem below as the main idea:\n",
    "\n",
    "$$P(A | B)P(B) = P(A \\cap B) = P(B \\cap A) = P(B | A)P(A)$$\n",
    "\n",
    "$$P(A | B) = \\frac{P(B | A)P(A)}{P(B)}$$\n",
    "\n",
    "\n",
    "Now using the theorem we can ask what is the probability of a given class given that a specific document happened.\n",
    "\n",
    "$$p(\\text{class} \\mid \\mathbf {\\text{data}} )={\\frac {p(\\mathbf {\\text{data}} \\mid \\text{class}) * p(\\text{class})}{p(\\mathbf {\\text{data}} )}}$$\n",
    "\n",
    "where:\n",
    "\n",
    "\n",
    "* $p(class | data)$ is called the posterior.\n",
    "* $p(data | class)$ is called the likelihood.\n",
    "* $p(class)$ is called the prior.\n",
    "* $p(data)$ is called the marginal probability.\n",
    "\n",
    "\n",
    "The equation above describes the full Bayes algorithm but some probabilites are very non pratical to calculate an example of this is the $P(data)$ because if we have a never seen document in the dataset this $P(data)$ is going to be $0$, so usually we don't calculate the marginal probabilities in real word cases.\n",
    "\n",
    "\n",
    "\n",
    "\n",
    "\n",
    "\n",
    "**The term Naive comes from assuming that the variables are independent of each other when they may not be**\n",
    "\n",
    "**The Multinomial is because we are not using the standard gaussian distribution but the multinomial distribution to calculate the likelihood probabilities**\n",
    "\n",
    "This classifier is good for cases where the data are typically represented as word vector counts, although tf-idf vectors are also known to work well in practice."
   ]
  },
  {
   "cell_type": "markdown",
   "metadata": {},
   "source": [
    "Under sampling results"
   ]
  },
  {
   "cell_type": "code",
   "execution_count": 19,
   "metadata": {},
   "outputs": [],
   "source": [
    "from sklearn.preprocessing import label_binarize\n",
    "\n",
    "X = df.text\n",
    "y = df.category\n",
    "\n",
    "categories = np.unique(y)\n",
    "y = label_binarize(y, classes=categories)\n",
    "\n",
    "X_train, X_test, y_train, y_test = train_test_split(\n",
    "    X, y, test_size=0.3, random_state=42)"
   ]
  },
  {
   "cell_type": "markdown",
   "metadata": {},
   "source": [
    "The next steps includes feature engineering. We will convert our text documents to a matrix of token counts (CountVectorizer), then transform a count matrix to a normalized tf-idf representation (tf-idf transformer). After that, we train several classifiers."
   ]
  },
  {
   "cell_type": "code",
   "execution_count": 13,
   "metadata": {},
   "outputs": [],
   "source": [
    "from sklearn.naive_bayes import MultinomialNB\n",
    "from sklearn.pipeline import Pipeline\n",
    "from sklearn.feature_extraction.text import TfidfTransformer\n",
    "# We use OneVsRestClassifier for multi-label prediction\n",
    "from sklearn.multiclass import OneVsRestClassifier\n",
    "\n",
    "\n",
    "def train_MNB(X_train, y_train, onevsrest=True):\n",
    "    clf = OneVsRestClassifier(MultinomialNB()) if onevsrest else MultinomialNB()\n",
    "    nb = Pipeline([('vect', CountVectorizer()),\n",
    "                   ('tfidf', TfidfTransformer()),\n",
    "                   ('clf', clf),\n",
    "                   ])\n",
    "    nb.fit(X_train, y_train)\n",
    "    \n",
    "    return nb"
   ]
  },
  {
   "cell_type": "markdown",
   "metadata": {},
   "source": [
    "Now we are going to train the model and evaluate it's predicitions"
   ]
  },
  {
   "cell_type": "code",
   "execution_count": 14,
   "metadata": {},
   "outputs": [
    {
     "name": "stdout",
     "output_type": "stream",
     "text": [
      "accuracy 0.9117543240381222\n",
      "                          precision    recall  f1-score   support\n",
      "\n",
      "         Ar-Condicionado       0.99      0.97      0.98      1110\n",
      "    Celular e Smartphone       0.99      0.98      0.99      1924\n",
      "                   Fogão       0.99      0.98      0.99      1082\n",
      "Geladeira / Refrigerador       0.97      0.83      0.89       546\n",
      " Guarda-Roupa / Roupeiro       0.99      1.00      1.00      1895\n",
      "             Lava e Seca       0.33      0.01      0.03        69\n",
      "               Monitores       0.98      0.58      0.73       390\n",
      "        Máquina de Lavar       0.92      0.54      0.68       311\n",
      "                Notebook       0.99      0.95      0.97       747\n",
      "                Smart TV       0.99      0.71      0.83       425\n",
      "\n",
      "               micro avg       0.99      0.91      0.95      8499\n",
      "               macro avg       0.92      0.76      0.81      8499\n",
      "            weighted avg       0.98      0.91      0.94      8499\n",
      "             samples avg       0.91      0.91      0.91      8499\n",
      "\n",
      "CPU times: user 1.21 s, sys: 7.99 ms, total: 1.22 s\n",
      "Wall time: 1.22 s\n"
     ]
    }
   ],
   "source": [
    "%%time\n",
    "from sklearn.metrics import classification_report\n",
    "\n",
    "nb = train_MNB(X_train, y_train)\n",
    "\n",
    "y_pred = nb.predict(X_test)\n",
    "y_probs = nb.predict_proba(X_test)\n",
    "\n",
    "print('accuracy %s' % accuracy_score(y_pred, y_test))\n",
    "print(classification_report(y_test, y_pred,target_names=categories))"
   ]
  },
  {
   "cell_type": "code",
   "execution_count": null,
   "metadata": {},
   "outputs": [],
   "source": [
    "majority_class = df.category.mode()[0]\n",
    "print('Majority Class: %s' % majority_class)"
   ]
  },
  {
   "cell_type": "markdown",
   "metadata": {},
   "source": [
    "## MultinomialNB Model Evaluation"
   ]
  },
  {
   "cell_type": "code",
   "execution_count": null,
   "metadata": {},
   "outputs": [],
   "source": [
    "from sklearn.model_selection import train_test_split\n",
    "from sklearn.metrics import precision_recall_curve, average_precision_score\n",
    "from sklearn.metrics import f1_score\n",
    "from sklearn.metrics import auc\n",
    "\n",
    "# For each class\n",
    "precision = dict()\n",
    "recall = dict()\n",
    "average_precision = dict()\n",
    "\n",
    "for i, category in enumerate(categories):    \n",
    "    precision[category], recall[category], _ = precision_recall_curve(y_test[:, i], y_probs[:, i])\n",
    "    average_precision[category] = average_precision_score(y_test[:, i], y_probs[:, i])    \n",
    "\n",
    "# A \"micro-average\": quantifying score on all classes jointly\n",
    "precision[\"micro\"], recall[\"micro\"], _ = precision_recall_curve(y_test.ravel(),\n",
    "    y_probs.ravel())\n",
    "average_precision[\"micro\"] = average_precision_score(y_test, y_probs,\n",
    "                                                     average=\"micro\")\n",
    "print('Average precision score, micro-averaged over all classes: {0:0.2f}'\n",
    "      .format(average_precision[\"micro\"]))"
   ]
  },
  {
   "cell_type": "markdown",
   "metadata": {},
   "source": [
    "Plot Precision-Recall curve for each class and iso-f1 curves"
   ]
  },
  {
   "cell_type": "code",
   "execution_count": null,
   "metadata": {},
   "outputs": [],
   "source": [
    "from itertools import cycle\n",
    "# setup plot details\n",
    "colors = cycle(['navy', 'turquoise', 'darkorange', 'cornflowerblue',\n",
    "                'teal', 'green', 'red', 'orange', 'pink', 'brown'])\n",
    "\n",
    "plt.figure(figsize=(7, 8))\n",
    "f_scores = np.linspace(0.2, 0.8, num=4)\n",
    "lines = []\n",
    "labels = []\n",
    "for f_score in f_scores:\n",
    "    x = np.linspace(0.01, 1)\n",
    "    y = f_score * x / (2 * x - f_score)\n",
    "    l, = plt.plot(x[y >= 0], y[y >= 0], color='red', alpha=0.2)\n",
    "    plt.annotate('f1={0:0.1f}'.format(f_score), xy=(0.9, y[45] + 0.02))\n",
    "\n",
    "lines.append(l)\n",
    "labels.append('iso-f1 curves')\n",
    "l, = plt.plot(recall[\"micro\"], precision[\"micro\"], color='gold', lw=2)\n",
    "lines.append(l)\n",
    "labels.append('micro-average Precision-recall (area = {0:0.2f})'\n",
    "              ''.format(average_precision[\"micro\"]))\n",
    "\n",
    "for i, color in zip(categories, colors):\n",
    "    l, = plt.plot(recall[i], precision[i], color=color, lw=2)\n",
    "    lines.append(l)\n",
    "    labels.append('Precision-recall for class {0} (area = {1:0.2f})'\n",
    "                  ''.format(i, average_precision[i]))\n",
    "\n",
    "fig = plt.gcf()\n",
    "fig.subplots_adjust(bottom=0.25)\n",
    "plt.xlim([0.0, 1.0])\n",
    "plt.ylim([0.0, 1.05])\n",
    "plt.xlabel('Recall')\n",
    "plt.ylabel('Precision')\n",
    "plt.title('Extension of Precision-Recall curve to multi-class')\n",
    "plt.legend(lines, labels, loc=(1.01, 0.29), prop=dict(size=14))\n",
    "\n",
    "\n",
    "plt.show()"
   ]
  },
  {
   "cell_type": "markdown",
   "metadata": {},
   "source": [
    "## Intepreting the Precision-Recall Plot\n",
    "\n",
    "As we can see the model has 91% almos 92% accuracy during testing but we have to do extra validation because the data is very unbanlanced.\n",
    "\n",
    "The Precision-Recall curve plot helps to evaluate if the model is able to distinguish the classes.\n",
    "\n",
    "And for all the 9 classes except `Lava e Seca` which had an area under the curve of 0.12 the models was able to learn and predict correct values.\n",
    "\n",
    "To improve the analysis and model we could either collect more data so `Lava e Saca` accuracy increases or create a separate classifier for it."
   ]
  },
  {
   "cell_type": "markdown",
   "metadata": {},
   "source": [
    "Creating a classifier for `Lava e Seca` and evaluate if it will be better than a random guess"
   ]
  },
  {
   "cell_type": "code",
   "execution_count": 8,
   "metadata": {},
   "outputs": [],
   "source": [
    "X = df.text.values\n",
    "y = df.category.copy().values\n",
    "\n",
    "y[y != 'Lava e Seca'] = 1\n",
    "y[y == 'Lava e Seca'] = 0\n",
    "y = y.astype('int')\n",
    "\n",
    "X_train, X_test, y_train, y_test = train_test_split(\n",
    "    X, y, test_size=0.3, random_state=42)"
   ]
  },
  {
   "cell_type": "code",
   "execution_count": null,
   "metadata": {},
   "outputs": [],
   "source": [
    "%%time\n",
    "from sklearn.metrics import classification_report\n",
    "\n",
    "nb = train_MNB(X_train, y_train, onevsrest=False)\n",
    "\n",
    "y_pred = nb.predict(X_test)\n",
    "y_probs = nb.predict_proba(X_test)\n",
    "\n",
    "print('accuracy %s' % accuracy_score(y_pred, y_test))\n",
    "print(classification_report(y_test, y_pred))"
   ]
  },
  {
   "cell_type": "markdown",
   "metadata": {},
   "source": [
    "As we can see the classifier is really good at predicting classes that are not from `Lava e Seca` but it fails to recognize `Lava e Seca` examples."
   ]
  },
  {
   "cell_type": "markdown",
   "metadata": {},
   "source": [
    "## Using K-Fold Cross Validation with MNB\n",
    "\n",
    "This strategie creates K folds/bins using the original dataset in a way that the distribution of classes in each fold is almost/exactly the same but with different examples, this helps to analyze if the classifier is performing well.\n",
    "\n",
    "<img src=\"./images/cross.png\" width=\"600\" height=\"600\">"
   ]
  },
  {
   "cell_type": "code",
   "execution_count": null,
   "metadata": {},
   "outputs": [],
   "source": [
    "from sklearn.model_selection import cross_validate\n",
    "from sklearn import metrics\n",
    "from sklearn.naive_bayes import MultinomialNB\n",
    "from sklearn.pipeline import Pipeline\n",
    "from sklearn.feature_extraction.text import TfidfTransformer\n",
    "\n",
    "# Reloading the dataset\n",
    "# As we are using K-Fold cross validation\n",
    "# We won't be using the onevsrest method\n",
    "X = df.text\n",
    "y = df.category\n",
    "\n",
    "clf = MultinomialNB()\n",
    "nb = Pipeline([('vect', CountVectorizer()),\n",
    "               ('tfidf', TfidfTransformer()),\n",
    "               ('clf', clf),\n",
    "               ])\n",
    "\n",
    "scoring = ['accuracy', 'precision_macro', 'recall_macro']\n",
    "\n",
    "# Using K = 5\n",
    "# And the precision as the scoring method\n",
    "scores = cross_validate(nb, X, y, cv=5, scoring=scoring)\n",
    "\n",
    "print('Accuracy Mean Score: %.3f' % np.mean(scores['test_accuracy']))\n",
    "print('Precision Mean Score: %.3f' % np.mean(scores['test_precision_macro']))\n",
    "print('Recall Mean Score: %.3f' % np.mean(scores['test_recall_macro']))"
   ]
  },
  {
   "cell_type": "markdown",
   "metadata": {},
   "source": [
    "Looking at the score results we can interpret that classifier is still not being able to distinguish the `Lava e Seca` class because it's accuracy is 96% but precision and recall scores are lower."
   ]
  },
  {
   "cell_type": "markdown",
   "metadata": {},
   "source": [
    "# Multilayer Perceptron\n",
    "Multilayer perceptrons, or more commonly referred to as artificial neural networks, are a combination of multiple neurons connected in the form a network. An artificial neural network has an input layer, one or more hidden layers, and an output layer. This is shown in the image below:\n",
    "\n",
    "<img src=\"./images/mlp_arch.png\" width=\"600\" height=\"600\">\n",
    "\n",
    "A neural network executes in two phases: Feed-Forward and Back Propagation.\n",
    "\n",
    "## Feed-Foward\n",
    "\n",
    "1. The values received in the input layer are multiplied with the weights. A bias is added to the summation of the inputs and weights in order to avoid null values.\n",
    "\n",
    "2. Each neuron in the first hidden layer receives different values from the input layer depending upon the weights and bias. Neurons have an activation function that operates upon the value received from the input layer. The activation function can be of many types, like a `step function`, `sigmoid function`, `relu function`, or `tanh function`.\n",
    "\n",
    "3. The outputs from the first hidden layer neurons are multiplied with the weights of the second hidden layer; the results are summed together and passed to the neurons of the proceeding layers. This process continues until the outer layer is reached. The values calculated at the outer layer are the actual outputs of the algorithm.\n",
    "\n",
    "\n",
    "## Back Propagation\n",
    "\n",
    "1. The error is calculated by quantifying the difference between the predicted output and the desired output. This difference is called \"loss\" and the function used to calculate the difference is called the \"loss function\". Loss functions can be of different types e.g. `mean squared error` or `cross entropy functions`. Remember, neural networks are `supervised learning` algorithms that need the desired outputs for a given set of inputs, which is what allows it to learn from the data.\n",
    "\n",
    "2. Once the error is calculated, the next step is to minimize that error. To do so, partial derivative of the error function is calculated with respect to all the weights and biases. This is called gradient decent. The derivatives can be used to find the slope of the error function. If the slop is positive, the value of the weights can be reduced or if the slop is negative the value of weight can be increased. This reduces the overall error. The function that is used to reduce this error is called the optimization function.\n",
    "\n",
    "\n",
    "The Feed-Foward and Back Propagation cycle continues until we reach the expected accuracy. Usually 90% or more is a acceptable but it depends on the  problem complexity. The overview above is a extremelly simplified. How the percepetron works and the mathematical aspects of weight and bias error minimizing are not exposed for simplicit proposal."
   ]
  },
  {
   "cell_type": "markdown",
   "metadata": {},
   "source": [
    "Now we are defining the pipeline of execution."
   ]
  },
  {
   "cell_type": "code",
   "execution_count": 22,
   "metadata": {},
   "outputs": [],
   "source": [
    "from sklearn.neural_network import MLPClassifier\n",
    "from sklearn.pipeline import Pipeline\n",
    "from sklearn.feature_extraction.text import TfidfTransformer\n",
    "#hidden_layer_sizes=(10, 10, 10), max_iter=1000\n",
    "\n",
    "def train_MLP(X_train, y_train):\n",
    "    mlp = Pipeline([('vect', CountVectorizer()),\n",
    "                   ('tfidf', TfidfTransformer()),\n",
    "                   ('MLP', MLPClassifier(hidden_layer_sizes=(10, 10, 10), max_iter=1000)),\n",
    "                   ])\n",
    "    mlp.fit(X_train, y_train)\n",
    "    \n",
    "    return mlp"
   ]
  },
  {
   "cell_type": "markdown",
   "metadata": {},
   "source": [
    "Aplying the model and getting the results"
   ]
  },
  {
   "cell_type": "code",
   "execution_count": 25,
   "metadata": {},
   "outputs": [
    {
     "name": "stdout",
     "output_type": "stream",
     "text": [
      "Training...\n",
      "accuracy 0.9728203318037416\n",
      "                          precision    recall  f1-score   support\n",
      "\n",
      "         Ar-Condicionado       1.00      0.97      0.98      1110\n",
      "    Celular e Smartphone       1.00      0.98      0.99      1924\n",
      "                   Fogão       1.00      0.99      0.99      1082\n",
      "Geladeira / Refrigerador       0.99      0.95      0.97       546\n",
      " Guarda-Roupa / Roupeiro       1.00      1.00      1.00      1895\n",
      "             Lava e Seca       0.74      0.61      0.67        69\n",
      "               Monitores       0.99      0.97      0.98       390\n",
      "        Máquina de Lavar       0.95      0.91      0.93       311\n",
      "                Notebook       0.99      0.99      0.99       747\n",
      "                Smart TV       0.99      0.93      0.96       425\n",
      "\n",
      "               micro avg       0.99      0.97      0.98      8499\n",
      "               macro avg       0.96      0.93      0.95      8499\n",
      "            weighted avg       0.99      0.97      0.98      8499\n",
      "             samples avg       0.97      0.97      0.97      8499\n",
      "\n",
      "CPU times: user 1min 59s, sys: 1min 4s, total: 3min 3s\n",
      "Wall time: 49.5 s\n"
     ]
    }
   ],
   "source": [
    "%%time\n",
    "from sklearn.metrics import classification_report, confusion_matrix\n",
    "from sklearn.preprocessing import StandardScaler\n",
    "\n",
    "#scaler = StandardScaler()\n",
    "#scaler.fit(X_train)\n",
    "\n",
    "#X_train = scaler.transform(X_train)\n",
    "#X_test = scaler.transform(X_test)\n",
    "\n",
    "print('Training...')\n",
    "mlp = train_MLP(X_train, y_train)\n",
    "\n",
    "y_pred_mlp = mlp.predict(X_test)\n",
    "y_probs_mlp = mlp.predict_proba(X_test)\n",
    "\n",
    "print('accuracy %s' % accuracy_score(y_pred_mlp, y_test))\n",
    "print(classification_report(y_test, y_pred_mlp,target_names=categories))"
   ]
  },
  {
   "cell_type": "code",
   "execution_count": null,
   "metadata": {},
   "outputs": [],
   "source": []
  },
  {
   "cell_type": "code",
   "execution_count": null,
   "metadata": {},
   "outputs": [],
   "source": []
  }
 ],
 "metadata": {
  "kernelspec": {
   "display_name": "Python 3",
   "language": "python",
   "name": "python3"
  },
  "language_info": {
   "codemirror_mode": {
    "name": "ipython",
    "version": 3
   },
   "file_extension": ".py",
   "mimetype": "text/x-python",
   "name": "python",
   "nbconvert_exporter": "python",
   "pygments_lexer": "ipython3",
   "version": "3.6.8"
  }
 },
 "nbformat": 4,
 "nbformat_minor": 2
}
